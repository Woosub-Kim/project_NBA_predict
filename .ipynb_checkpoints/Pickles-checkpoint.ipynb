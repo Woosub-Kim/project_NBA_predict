{
 "cells": [
  {
   "cell_type": "markdown",
   "metadata": {},
   "source": [
    "## 각 팀의 직전시즌 평균  BPM,VORP,WS 를 통해 경기의 승패를 예측하는 모델 피클로"
   ]
  },
  {
   "cell_type": "code",
   "execution_count": 3,
   "metadata": {},
   "outputs": [
    {
     "name": "stdout",
     "output_type": "stream",
     "text": [
      "              precision    recall  f1-score   support\n",
      "\n",
      "        away       0.58      0.30      0.40      1168\n",
      "        home       0.65      0.85      0.74      1755\n",
      "\n",
      "    accuracy                           0.63      2923\n",
      "   macro avg       0.61      0.58      0.57      2923\n",
      "weighted avg       0.62      0.63      0.60      2923\n",
      "\n",
      "              precision    recall  f1-score   support\n",
      "\n",
      "        away       0.56      0.29      0.38      3528\n",
      "        home       0.64      0.85      0.73      5239\n",
      "\n",
      "    accuracy                           0.62      8767\n",
      "   macro avg       0.60      0.57      0.56      8767\n",
      "weighted avg       0.61      0.62      0.59      8767\n",
      "\n"
     ]
    }
   ],
   "source": [
    "##AST, VA USG TO PER MPG GP DWS Age\n",
    "#without Age data사용한다 + drop\n",
    "import pandas as pd\n",
    "from BasketballGameResult import result_fnc0\n",
    "df = pd.read_csv('final_data_without_age.csv')\n",
    "df['PER_x'] = df.PER_x.fillna(0)\n",
    "df['PER_x_x'] = df.PER_x_x.fillna(0)\n",
    "df['PER_x_y'] = df.PER_x_y.fillna(0)\n",
    "df['PER_y'] = df.PER_y.fillna(0)\n",
    "df.PER_x = df.PER_x + df.PER_x_x\n",
    "df.PER_y = df.PER_y + df.PER_x_y\n",
    "df = df.dropna(axis=1)\n",
    "#PER 컬럼에 이상이 있어 수정해야함\n",
    "droplist = ['Unnamed: 0', 'AWAY', 'HOME', 'DATE', 'GAME_RESULT', 'Unnamed: 0.1', 'SEASON', 'PER_x_x', 'PER_x_y', 'Tm_x', 'Tm_y','GP_x',\n",
    "            'GP_y', 'AST_x', 'AST_y', 'VA_x', 'VA_y', 'USG_x', 'USG_y', 'TO_x', 'TO_y', 'PER_x', 'PER_y',  'MPG_x', 'MPG_y', 'DWS_x', 'DWS_y',\n",
    "           'EWA_x', 'EWA_y', 'ORR_x','ORR_y', 'REBR_x', 'REBR_y', 'MP_x', 'MP_y', 'DRR_x', 'DRR_y', 'OWS_x', 'OWS_y', 'OBPM_x', 'OBPM_y','DBPM_x', 'DBPM_y'\n",
    "           ]\n",
    "x = df.drop(droplist, axis=1)\n",
    "y = df.GAME_RESULT.apply(result_fnc0)\n",
    "from  sklearn.model_selection import train_test_split\n",
    "x_train, x_test, y_train, y_test = train_test_split(x,y)\n",
    "from sklearn.preprocessing import StandardScaler\n",
    "x_train = StandardScaler().fit_transform(x_train)\n",
    "x_test = StandardScaler().fit_transform(x_test)\n",
    "from sklearn.linear_model import LogisticRegression\n",
    "lr = LogisticRegression()\n",
    "lr.fit(x_train, y_train)\n",
    "predictions =  lr.predict(x_test)\n",
    "from sklearn.metrics import classification_report\n",
    "report = classification_report(y_test, predictions)\n",
    "#과적합\n",
    "isOverfit = lr.predict(x_train)\n",
    "report_overfit = classification_report(y_train, isOverfit)\n",
    "print(report)\n",
    "print(report_overfit)"
   ]
  },
  {
   "cell_type": "code",
   "execution_count": 4,
   "metadata": {},
   "outputs": [],
   "source": [
    "import pickle\n",
    "with open('NBApredictor.pickle', 'wb') as f:\n",
    "    pickle.dump(lr, f)"
   ]
  }
 ],
 "metadata": {
  "kernelspec": {
   "display_name": "Python 3",
   "language": "python",
   "name": "python3"
  },
  "language_info": {
   "codemirror_mode": {
    "name": "ipython",
    "version": 3
   },
   "file_extension": ".py",
   "mimetype": "text/x-python",
   "name": "python",
   "nbconvert_exporter": "python",
   "pygments_lexer": "ipython3",
   "version": "3.7.4"
  }
 },
 "nbformat": 4,
 "nbformat_minor": 4
}
