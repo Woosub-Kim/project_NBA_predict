{
 "cells": [
  {
   "cell_type": "markdown",
   "metadata": {},
   "source": [
    "# Decision Tree 모델이 가장 적합하다는 것을 파악\n",
    "# 파라미터 등 조절하기"
   ]
  },
  {
   "cell_type": "code",
   "execution_count": 7,
   "metadata": {},
   "outputs": [
    {
     "name": "stdout",
     "output_type": "stream",
     "text": [
      "              precision    recall  f1-score   support\n",
      "\n",
      "        away       0.49      0.46      0.48       200\n",
      "        home       0.51      0.53      0.52       209\n",
      "        near       0.00      0.00      0.00         5\n",
      "\n",
      "    accuracy                           0.49       414\n",
      "   macro avg       0.33      0.33      0.33       414\n",
      "weighted avg       0.49      0.49      0.49       414\n",
      "\n",
      "              precision    recall  f1-score   support\n",
      "\n",
      "        away       1.00      1.00      1.00       542\n",
      "        home       1.00      1.00      1.00       684\n",
      "        near       1.00      1.00      1.00        15\n",
      "\n",
      "    accuracy                           1.00      1241\n",
      "   macro avg       1.00      1.00      1.00      1241\n",
      "weighted avg       1.00      1.00      1.00      1241\n",
      "\n"
     ]
    }
   ],
   "source": [
    "#1차 모델링 WAR정보가 없는 경우 0 \n",
    "from BaseballGameResult import result_fnc0, result_fnc1\n",
    "import pandas as pd\n",
    "game_war = pd.read_csv('game_war.csv', encoding='cp949')\n",
    "\n",
    "game_score = pd.read_csv('game_score.csv', encoding = 'cp949', header=None)\n",
    "game_score.columns = ['경기', '결과']\n",
    "\n",
    "df = pd.merge(game_war, game_score , on='경기' )\n",
    "df['결과'] = df.결과.apply(lambda x: int(x.split(':')[0])-int(x.split(':')[1]) )\n",
    "#승1패\n",
    "#df['결과'] = df.결과.apply(result_fnc1)\n",
    "#승무패\n",
    "df['결과'] = df.결과.apply(result_fnc0)\n",
    "\n",
    "y = df.결과\n",
    "x = df.drop(['경기','결과', 'Unnamed: 0'], axis=1)\n",
    "\n",
    "\n",
    "from sklearn.model_selection import train_test_split\n",
    "x_train, x_test, y_train, y_test = train_test_split(x,y)\n",
    "\n",
    "\n",
    "from sklearn.tree import DecisionTreeClassifier\n",
    "tree = DecisionTreeClassifier()\n",
    "tree.fit(x_train, y_train)\n",
    "pred = tree.predict(x_test)\n",
    "\n",
    "from sklearn.metrics import classification_report\n",
    "report = classification_report(y_test, pred)\n",
    "\n",
    "#overfit\n",
    "pred_over_fit = tree.predict(x_train)\n",
    "report_over_fit = classification_report(y_train, pred_over_fit)\n",
    "\n",
    "print(report)\n",
    "print(report_over_fit)"
   ]
  },
  {
   "cell_type": "code",
   "execution_count": null,
   "metadata": {},
   "outputs": [],
   "source": []
  },
  {
   "cell_type": "code",
   "execution_count": null,
   "metadata": {},
   "outputs": [],
   "source": []
  },
  {
   "cell_type": "code",
   "execution_count": null,
   "metadata": {},
   "outputs": [],
   "source": []
  },
  {
   "cell_type": "code",
   "execution_count": null,
   "metadata": {},
   "outputs": [],
   "source": []
  },
  {
   "cell_type": "code",
   "execution_count": null,
   "metadata": {},
   "outputs": [],
   "source": []
  }
 ],
 "metadata": {
  "kernelspec": {
   "display_name": "Python 3",
   "language": "python",
   "name": "python3"
  },
  "language_info": {
   "codemirror_mode": {
    "name": "ipython",
    "version": 3
   },
   "file_extension": ".py",
   "mimetype": "text/x-python",
   "name": "python",
   "nbconvert_exporter": "python",
   "pygments_lexer": "ipython3",
   "version": "3.7.4"
  }
 },
 "nbformat": 4,
 "nbformat_minor": 4
}
